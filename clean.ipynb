{
 "cells": [
  {
   "cell_type": "markdown",
   "metadata": {},
   "source": [
    "### Check Environment"
   ]
  },
  {
   "cell_type": "code",
   "execution_count": 1,
   "metadata": {},
   "outputs": [],
   "source": [
    "import os\n",
    "databricks = \"DATABRICKS_RUNTIME_VERSION\" in os.environ"
   ]
  },
  {
   "cell_type": "markdown",
   "metadata": {},
   "source": [
    "### Init Local"
   ]
  },
  {
   "cell_type": "code",
   "execution_count": 2,
   "metadata": {},
   "outputs": [],
   "source": [
    "if not databricks:\n",
    "    \n",
    "    from pyspark.sql import SparkSession\n",
    "    \n",
    "    # Set up environment variables (optional, but sometimes needed)\n",
    "    os.environ[\"PYSPARK_PYTHON\"] = \"python3\"\n",
    "    os.environ[\"JAVA_HOME\"] = \"C:\\\\Program Files\\\\Java\\\\jdk-11\"\n",
    "    \n",
    "    # Initialize a Spark session\n",
    "    spark = SparkSession.builder \\\n",
    "        .appName(\"LocalPySpark\") \\\n",
    "        .master(\"local[*]\") \\\n",
    "        .config(\"spark.driver.memory\", \"4g\") \\\n",
    "        .config(\"spark.sql.execution.arrow.enabled\", \"true\") \\\n",
    "        .config(\"spark.driver.host\", \"127.0.0.1\") \\\n",
    "        .config(\"spark.driver.bindAddress\", \"127.0.0.1\") \\\n",
    "        .getOrCreate()\n",
    "    \n",
    "    url = \"https://data.insideairbnb.com/the-netherlands/north-holland/amsterdam/2024-09-05/data/listings.csv.gz\"\n",
    "    city = \"amsterdam\"\n",
    "    download_path = \".//listings.csv.gz\"\n",
    "    raw_data_path = f\".//{city}.csv\""
   ]
  },
  {
   "cell_type": "markdown",
   "metadata": {},
   "source": [
    "### Init Databricks "
   ]
  },
  {
   "cell_type": "code",
   "execution_count": 3,
   "metadata": {},
   "outputs": [],
   "source": [
    "if databricks:\n",
    "\n",
    "    # access url and city name\n",
    "    dbutils.widgets.text(\"city\", \"amsterdam\") \n",
    "    city = dbutils.widgets.get(\"city\")\n",
    "    dbutils.widgets.text(\"url\", \"https://data.insideairbnb.com/the-netherlands/north-holland/amsterdam/2024-09-05/data/listings.csv.gz\") \n",
    "    url = dbutils.widgets.get(\"url\")\n",
    "    download_path = \"/Volumes/workspace/airbnb/airbnb//listings.csv.gz\"\n",
    "    raw_data_path = f\"/Volumes/workspace/airbnb/airbnb/{city}.csv\""
   ]
  },
  {
   "cell_type": "markdown",
   "metadata": {
    "application/vnd.databricks.v1+cell": {
     "cellMetadata": {},
     "inputWidgets": {},
     "nuid": "cb654e39-af19-49de-a1df-c29a74c80707",
     "showTitle": false,
     "tableResultSettingsMap": {},
     "title": ""
    }
   },
   "source": [
    "### Download dataset "
   ]
  },
  {
   "cell_type": "code",
   "execution_count": 4,
   "metadata": {
    "application/vnd.databricks.v1+cell": {
     "cellMetadata": {
      "byteLimit": 2048000,
      "rowLimit": 10000
     },
     "inputWidgets": {},
     "nuid": "298e7987-94b4-495b-87c9-51232f61756c",
     "showTitle": false,
     "tableResultSettingsMap": {},
     "title": ""
    }
   },
   "outputs": [
    {
     "name": "stdout",
     "output_type": "stream",
     "text": [
      "Downloading file...\n",
      "Download completed.\n",
      "Extracting file...\n",
      "Extraction completed.\n",
      "Deleted: .//listings.csv.gz\n"
     ]
    }
   ],
   "source": [
    "import requests\n",
    "import gzip\n",
    "import shutil\n",
    "import os\n",
    "from pathlib import Path\n",
    "\n",
    "# Download the zipped raw data csv\n",
    "print(\"Downloading file...\")\n",
    "response = requests.get(url, stream=True)\n",
    "with open(download_path, \"wb\") as file:\n",
    "    for chunk in response.iter_content(chunk_size=1024):\n",
    "        file.write(chunk)\n",
    "print(\"Download completed.\")\n",
    "\n",
    "# Extract the GZ file\n",
    "print(\"Extracting file...\")\n",
    "with gzip.open(download_path, 'rb') as f_in:\n",
    "    with open(raw_data_path, 'wb') as f_out:\n",
    "        shutil.copyfileobj(f_in, f_out)\n",
    "print(\"Extraction completed.\")\n",
    "\n",
    "if os.path.exists(download_path):\n",
    "    os.remove(download_path)  # Delete the downloaded .gz file\n",
    "    print(f\"Deleted: {download_path}\")"
   ]
  },
  {
   "cell_type": "markdown",
   "metadata": {
    "application/vnd.databricks.v1+cell": {
     "cellMetadata": {
      "batchId": -3734696322489541,
      "byteLimit": 2048000,
      "rowLimit": 10000
     },
     "inputWidgets": {},
     "nuid": "44bd780c-a897-49c7-ae9a-b682b5e61087",
     "showTitle": false,
     "tableResultSettingsMap": {},
     "title": ""
    }
   },
   "source": [
    "### View raw data"
   ]
  },
  {
   "cell_type": "code",
   "execution_count": 5,
   "metadata": {
    "application/vnd.databricks.v1+cell": {
     "cellMetadata": {
      "byteLimit": 2048000,
      "implicitDf": true,
      "rowLimit": 10000
     },
     "inputWidgets": {},
     "nuid": "32ee0203-626e-45e0-aefd-5c7eb539793e",
     "showTitle": false,
     "tableResultSettingsMap": {},
     "title": ""
    }
   },
   "outputs": [],
   "source": [
    "#%sql\n",
    "#SELECT * FROM default.listings LIMIT 10"
   ]
  },
  {
   "cell_type": "markdown",
   "metadata": {
    "application/vnd.databricks.v1+cell": {
     "cellMetadata": {
      "batchId": -3734696322489541,
      "byteLimit": 2048000,
      "rowLimit": 10000
     },
     "inputWidgets": {},
     "nuid": "94963c49-e489-4722-8c82-d12233c36eaa",
     "showTitle": false,
     "tableResultSettingsMap": {},
     "title": ""
    }
   },
   "source": [
    "### Load listings.csv dataset and select useful feature columns"
   ]
  },
  {
   "cell_type": "markdown",
   "metadata": {
    "application/vnd.databricks.v1+cell": {
     "cellMetadata": {
      "batchId": -3734696322489541,
      "byteLimit": 2048000,
      "rowLimit": 10000
     },
     "inputWidgets": {},
     "nuid": "bfb4af3e-0d24-460b-aa0b-d675d141cabd",
     "showTitle": true,
     "tableResultSettingsMap": {},
     "title": ""
    },
    "collapsed": true,
    "jupyter": {
     "outputs_hidden": true
    }
   },
   "source": [
    "The following columns could be of use in the price prediction: \n",
    "\n",
    "| Column Name              | Example Value | Description |\n",
    "|--------------------------|--------------|-------------|\n",
    "| name                     | \"Private, quiet studio in the centre with terrace\"            | title of the airbnb page, should be transformed to embedding           |\n",
    "| description              | \"All guests agree: the apartment  is perfect and the location even better. A real home away from home. Two bedrooms, a fully equipped kitchen, a living with a comfortable couch. Quiet area, next to the Museumplein with the 3 major Museums.\"            | description on the airbnb page, should be transformed to embedding       |\n",
    "| neighborhood_cleansed    |    Centrum-West       | label for the neighborhood, needs to be one-hot-encoded           |\n",
    "| property_type           | Private room in guest suite            | label for the property type, needs to be one-hot-encoded           |\n",
    "| room_type                | Entire home/apt            | label for the room type, needs to be one-hot-encoded           |\n",
    "| accommodates            | 4            | the number of guests           |\n",
    "| bathrooms               | 1            | the number of bathrooms           |\n",
    "| bedrooms                | 2            | the number of bedrooms           |\n",
    "| beds                    | 1            | the number of beds          |\n",
    "| amenities               | [\"Central heating\", \"Shower gel\", \"Lake access\"]            | array of categorical variables, needs to be multi-hot-encoded           |\n",
    "| availability_365        |   247          | number of days the airbnb is available per year           |\n",
    "| review_scores_value     | 4.75            | review score for the value of the airbnb           |\n",
    "\n"
   ]
  },
  {
   "cell_type": "code",
   "execution_count": 6,
   "metadata": {
    "application/vnd.databricks.v1+cell": {
     "cellMetadata": {
      "byteLimit": 2048000,
      "rowLimit": 10000
     },
     "inputWidgets": {},
     "nuid": "f152687f-2593-4bc4-b716-8e06c59a4aa8",
     "showTitle": false,
     "tableResultSettingsMap": {},
     "title": ""
    },
    "scrolled": true
   },
   "outputs": [
    {
     "data": {
      "text/html": [
       "<div>\n",
       "<style scoped>\n",
       "    .dataframe tbody tr th:only-of-type {\n",
       "        vertical-align: middle;\n",
       "    }\n",
       "\n",
       "    .dataframe tbody tr th {\n",
       "        vertical-align: top;\n",
       "    }\n",
       "\n",
       "    .dataframe thead th {\n",
       "        text-align: right;\n",
       "    }\n",
       "</style>\n",
       "<table border=\"1\" class=\"dataframe\">\n",
       "  <thead>\n",
       "    <tr style=\"text-align: right;\">\n",
       "      <th></th>\n",
       "      <th>name</th>\n",
       "      <th>description</th>\n",
       "      <th>neighbourhood_cleansed</th>\n",
       "      <th>property_type</th>\n",
       "      <th>room_type</th>\n",
       "      <th>accommodates</th>\n",
       "      <th>bathrooms</th>\n",
       "      <th>bathrooms_text</th>\n",
       "      <th>bedrooms</th>\n",
       "      <th>beds</th>\n",
       "      <th>amenities</th>\n",
       "      <th>availability_365</th>\n",
       "      <th>review_scores_value</th>\n",
       "      <th>price</th>\n",
       "    </tr>\n",
       "  </thead>\n",
       "  <tbody>\n",
       "    <tr>\n",
       "      <th>0</th>\n",
       "      <td>Triple Room With City View</td>\n",
       "      <td>This tastefully decorated room has an elegant ...</td>\n",
       "      <td>Centrum-West</td>\n",
       "      <td>Room in hotel</td>\n",
       "      <td>Private room</td>\n",
       "      <td>3</td>\n",
       "      <td>1.0</td>\n",
       "      <td>1 bath</td>\n",
       "      <td>1.0</td>\n",
       "      <td>3.0</td>\n",
       "      <td>[\"Paid parking on premises\", \"Body soap\", \"Cof...</td>\n",
       "      <td>323</td>\n",
       "      <td>4.75</td>\n",
       "      <td>269.0</td>\n",
       "    </tr>\n",
       "    <tr>\n",
       "      <th>1</th>\n",
       "      <td>Private loft next @Vondelpark with PRIVATE par...</td>\n",
       "      <td>Vintage &amp; private loft centrally situated in t...</td>\n",
       "      <td>De Baarsjes - Oud-West</td>\n",
       "      <td>Private room in bed and breakfast</td>\n",
       "      <td>Private room</td>\n",
       "      <td>4</td>\n",
       "      <td>1.0</td>\n",
       "      <td>1 private bath</td>\n",
       "      <td>2.0</td>\n",
       "      <td>5.0</td>\n",
       "      <td>[\"Dishes and silverware\", \"Fast wifi \\u2013 98...</td>\n",
       "      <td>275</td>\n",
       "      <td>4.62</td>\n",
       "      <td>254.0</td>\n",
       "    </tr>\n",
       "    <tr>\n",
       "      <th>2</th>\n",
       "      <td>Ecoluxe accommodation 'The Green Tunnel'</td>\n",
       "      <td>Spacious, ground level private ecoluxe two-roo...</td>\n",
       "      <td>IJburg - Zeeburgereiland</td>\n",
       "      <td>Private room in guesthouse</td>\n",
       "      <td>Private room</td>\n",
       "      <td>4</td>\n",
       "      <td>1.5</td>\n",
       "      <td>1.5 baths</td>\n",
       "      <td>2.0</td>\n",
       "      <td>2.0</td>\n",
       "      <td>[\"Dishes and silverware\", \"Toaster\", \"Shower g...</td>\n",
       "      <td>10</td>\n",
       "      <td>4.74</td>\n",
       "      <td>203.0</td>\n",
       "    </tr>\n",
       "    <tr>\n",
       "      <th>3</th>\n",
       "      <td>Appartment in centre with jacuzzi</td>\n",
       "      <td>Ideal for a family and is equipped with all th...</td>\n",
       "      <td>De Baarsjes - Oud-West</td>\n",
       "      <td>Entire loft</td>\n",
       "      <td>Entire home/apt</td>\n",
       "      <td>4</td>\n",
       "      <td>2.0</td>\n",
       "      <td>2 baths</td>\n",
       "      <td>2.0</td>\n",
       "      <td>2.0</td>\n",
       "      <td>[\"Paid parking on premises\", \"Smoke alarm\", \"L...</td>\n",
       "      <td>60</td>\n",
       "      <td>NaN</td>\n",
       "      <td>375.0</td>\n",
       "    </tr>\n",
       "    <tr>\n",
       "      <th>4</th>\n",
       "      <td>Amazing apartment canal view and private terrace!</td>\n",
       "      <td>Great place to stay in the middle of the city ...</td>\n",
       "      <td>Centrum-West</td>\n",
       "      <td>Entire condo</td>\n",
       "      <td>Entire home/apt</td>\n",
       "      <td>2</td>\n",
       "      <td>1.0</td>\n",
       "      <td>1 bath</td>\n",
       "      <td>1.0</td>\n",
       "      <td>1.0</td>\n",
       "      <td>[\"Dishes and silverware\", \"Toaster\", \"Shower g...</td>\n",
       "      <td>247</td>\n",
       "      <td>4.71</td>\n",
       "      <td>599.0</td>\n",
       "    </tr>\n",
       "    <tr>\n",
       "      <th>...</th>\n",
       "      <td>...</td>\n",
       "      <td>...</td>\n",
       "      <td>...</td>\n",
       "      <td>...</td>\n",
       "      <td>...</td>\n",
       "      <td>...</td>\n",
       "      <td>...</td>\n",
       "      <td>...</td>\n",
       "      <td>...</td>\n",
       "      <td>...</td>\n",
       "      <td>...</td>\n",
       "      <td>...</td>\n",
       "      <td>...</td>\n",
       "      <td>...</td>\n",
       "    </tr>\n",
       "    <tr>\n",
       "      <th>5864</th>\n",
       "      <td>Luxe appartement Amsterdam</td>\n",
       "      <td>This stylish accommodation is perfect for grou...</td>\n",
       "      <td>Osdorp</td>\n",
       "      <td>Entire rental unit</td>\n",
       "      <td>Entire home/apt</td>\n",
       "      <td>3</td>\n",
       "      <td>1.0</td>\n",
       "      <td>1 bath</td>\n",
       "      <td>2.0</td>\n",
       "      <td>2.0</td>\n",
       "      <td>[\"Smoke alarm\", \"Washer\", \"TV\", \"Free parking ...</td>\n",
       "      <td>221</td>\n",
       "      <td>NaN</td>\n",
       "      <td>125.0</td>\n",
       "    </tr>\n",
       "    <tr>\n",
       "      <th>5865</th>\n",
       "      <td>Vrolik</td>\n",
       "      <td>In this centrally located accommodation, every...</td>\n",
       "      <td>Oud-Oost</td>\n",
       "      <td>Entire rental unit</td>\n",
       "      <td>Entire home/apt</td>\n",
       "      <td>3</td>\n",
       "      <td>1.0</td>\n",
       "      <td>1 bath</td>\n",
       "      <td>2.0</td>\n",
       "      <td>2.0</td>\n",
       "      <td>[\"Paid parking on premises\", \"Smoke alarm\", \"S...</td>\n",
       "      <td>163</td>\n",
       "      <td>NaN</td>\n",
       "      <td>196.0</td>\n",
       "    </tr>\n",
       "    <tr>\n",
       "      <th>5866</th>\n",
       "      <td>Kids friendly home next to park</td>\n",
       "      <td>Welcome to our family home, nestled in the hea...</td>\n",
       "      <td>Westerpark</td>\n",
       "      <td>Entire serviced apartment</td>\n",
       "      <td>Entire home/apt</td>\n",
       "      <td>4</td>\n",
       "      <td>2.0</td>\n",
       "      <td>2 baths</td>\n",
       "      <td>2.0</td>\n",
       "      <td>3.0</td>\n",
       "      <td>[\"Dishes and silverware\", \"Toaster\", \"Shower g...</td>\n",
       "      <td>189</td>\n",
       "      <td>4.83</td>\n",
       "      <td>409.0</td>\n",
       "    </tr>\n",
       "    <tr>\n",
       "      <th>5867</th>\n",
       "      <td>Cosy home in city center</td>\n",
       "      <td>Cosy home of two floors in the city centre of ...</td>\n",
       "      <td>De Pijp - Rivierenbuurt</td>\n",
       "      <td>Entire rental unit</td>\n",
       "      <td>Entire home/apt</td>\n",
       "      <td>4</td>\n",
       "      <td>1.0</td>\n",
       "      <td>1 bath</td>\n",
       "      <td>2.0</td>\n",
       "      <td>1.0</td>\n",
       "      <td>[\"Smoke alarm\", \"Smoking allowed\", \"Washer\", \"...</td>\n",
       "      <td>331</td>\n",
       "      <td>NaN</td>\n",
       "      <td>349.0</td>\n",
       "    </tr>\n",
       "    <tr>\n",
       "      <th>5868</th>\n",
       "      <td>Most central amsterdam chic home</td>\n",
       "      <td>Keep it simple at this peaceful and centrally-...</td>\n",
       "      <td>De Baarsjes - Oud-West</td>\n",
       "      <td>Entire rental unit</td>\n",
       "      <td>Entire home/apt</td>\n",
       "      <td>5</td>\n",
       "      <td>1.0</td>\n",
       "      <td>1 bath</td>\n",
       "      <td>4.0</td>\n",
       "      <td>5.0</td>\n",
       "      <td>[\"Stainless steel oven\", \"Paid parking on prem...</td>\n",
       "      <td>328</td>\n",
       "      <td>NaN</td>\n",
       "      <td>395.0</td>\n",
       "    </tr>\n",
       "  </tbody>\n",
       "</table>\n",
       "<p>5869 rows × 14 columns</p>\n",
       "</div>"
      ],
      "text/plain": [
       "                                                   name  \\\n",
       "0                            Triple Room With City View   \n",
       "1     Private loft next @Vondelpark with PRIVATE par...   \n",
       "2              Ecoluxe accommodation 'The Green Tunnel'   \n",
       "3                     Appartment in centre with jacuzzi   \n",
       "4     Amazing apartment canal view and private terrace!   \n",
       "...                                                 ...   \n",
       "5864                         Luxe appartement Amsterdam   \n",
       "5865                                             Vrolik   \n",
       "5866                    Kids friendly home next to park   \n",
       "5867                           Cosy home in city center   \n",
       "5868                   Most central amsterdam chic home   \n",
       "\n",
       "                                            description  \\\n",
       "0     This tastefully decorated room has an elegant ...   \n",
       "1     Vintage & private loft centrally situated in t...   \n",
       "2     Spacious, ground level private ecoluxe two-roo...   \n",
       "3     Ideal for a family and is equipped with all th...   \n",
       "4     Great place to stay in the middle of the city ...   \n",
       "...                                                 ...   \n",
       "5864  This stylish accommodation is perfect for grou...   \n",
       "5865  In this centrally located accommodation, every...   \n",
       "5866  Welcome to our family home, nestled in the hea...   \n",
       "5867  Cosy home of two floors in the city centre of ...   \n",
       "5868  Keep it simple at this peaceful and centrally-...   \n",
       "\n",
       "        neighbourhood_cleansed                      property_type  \\\n",
       "0                 Centrum-West                      Room in hotel   \n",
       "1       De Baarsjes - Oud-West  Private room in bed and breakfast   \n",
       "2     IJburg - Zeeburgereiland         Private room in guesthouse   \n",
       "3       De Baarsjes - Oud-West                        Entire loft   \n",
       "4                 Centrum-West                       Entire condo   \n",
       "...                        ...                                ...   \n",
       "5864                    Osdorp                 Entire rental unit   \n",
       "5865                  Oud-Oost                 Entire rental unit   \n",
       "5866                Westerpark          Entire serviced apartment   \n",
       "5867   De Pijp - Rivierenbuurt                 Entire rental unit   \n",
       "5868    De Baarsjes - Oud-West                 Entire rental unit   \n",
       "\n",
       "            room_type  accommodates  bathrooms  bathrooms_text  bedrooms  \\\n",
       "0        Private room             3        1.0          1 bath       1.0   \n",
       "1        Private room             4        1.0  1 private bath       2.0   \n",
       "2        Private room             4        1.5       1.5 baths       2.0   \n",
       "3     Entire home/apt             4        2.0         2 baths       2.0   \n",
       "4     Entire home/apt             2        1.0          1 bath       1.0   \n",
       "...               ...           ...        ...             ...       ...   \n",
       "5864  Entire home/apt             3        1.0          1 bath       2.0   \n",
       "5865  Entire home/apt             3        1.0          1 bath       2.0   \n",
       "5866  Entire home/apt             4        2.0         2 baths       2.0   \n",
       "5867  Entire home/apt             4        1.0          1 bath       2.0   \n",
       "5868  Entire home/apt             5        1.0          1 bath       4.0   \n",
       "\n",
       "      beds                                          amenities  \\\n",
       "0      3.0  [\"Paid parking on premises\", \"Body soap\", \"Cof...   \n",
       "1      5.0  [\"Dishes and silverware\", \"Fast wifi \\u2013 98...   \n",
       "2      2.0  [\"Dishes and silverware\", \"Toaster\", \"Shower g...   \n",
       "3      2.0  [\"Paid parking on premises\", \"Smoke alarm\", \"L...   \n",
       "4      1.0  [\"Dishes and silverware\", \"Toaster\", \"Shower g...   \n",
       "...    ...                                                ...   \n",
       "5864   2.0  [\"Smoke alarm\", \"Washer\", \"TV\", \"Free parking ...   \n",
       "5865   2.0  [\"Paid parking on premises\", \"Smoke alarm\", \"S...   \n",
       "5866   3.0  [\"Dishes and silverware\", \"Toaster\", \"Shower g...   \n",
       "5867   1.0  [\"Smoke alarm\", \"Smoking allowed\", \"Washer\", \"...   \n",
       "5868   5.0  [\"Stainless steel oven\", \"Paid parking on prem...   \n",
       "\n",
       "      availability_365  review_scores_value  price  \n",
       "0                  323                 4.75  269.0  \n",
       "1                  275                 4.62  254.0  \n",
       "2                   10                 4.74  203.0  \n",
       "3                   60                  NaN  375.0  \n",
       "4                  247                 4.71  599.0  \n",
       "...                ...                  ...    ...  \n",
       "5864               221                  NaN  125.0  \n",
       "5865               163                  NaN  196.0  \n",
       "5866               189                 4.83  409.0  \n",
       "5867               331                  NaN  349.0  \n",
       "5868               328                  NaN  395.0  \n",
       "\n",
       "[5869 rows x 14 columns]"
      ]
     },
     "metadata": {},
     "output_type": "display_data"
    }
   ],
   "source": [
    "import pandas as pd\n",
    "import numpy as np\n",
    "from pyspark.sql.functions import col, regexp_extract\n",
    "\n",
    "# Load the data into dataframe\n",
    "df = spark.read.format(\"csv\") \\\n",
    ".option(\"header\", \"true\") \\\n",
    ".option(\"inferSchema\", \"true\") \\\n",
    ".option(\"sep\", \",\") \\\n",
    ".option(\"escape\", '\"') \\\n",
    ".option(\"encoding\", \"UTF-8\") \\\n",
    ".option(\"quote\", '\"') \\\n",
    ".option(\"multiLine\", \"true\") \\\n",
    ".load(raw_data_path)\n",
    "\n",
    "# Select specific columns\n",
    "selected_columns = [\n",
    "    \"name\", \"description\", \"neighbourhood_cleansed\",\n",
    "    \"property_type\", \"room_type\", \"accommodates\", \"bathrooms\", \"bathrooms_text\", \"bedrooms\",\n",
    "    \"beds\", \"amenities\", \"availability_365\", \"review_scores_value\", \"price\"\n",
    "]\n",
    "\n",
    "# Selecting the specified columns\n",
    "df = df.select(*selected_columns)\n",
    "\n",
    "# Filter out records without price\n",
    "df = df.filter(col(\"price\").isNotNull())\n",
    "df = df.withColumn(\"price\", regexp_extract(col(\"price\"), r\"(\\d+\\.?\\d*)\", 1))\n",
    "df = df.withColumn(\"price\", col(\"price\").cast(\"double\"))\n",
    "df = df.toPandas()\n",
    "# Display the first few rows\n",
    "display(df)\n"
   ]
  },
  {
   "cell_type": "markdown",
   "metadata": {
    "application/vnd.databricks.v1+cell": {
     "cellMetadata": {
      "batchId": -3734696322489541,
      "byteLimit": 2048000,
      "rowLimit": 10000
     },
     "inputWidgets": {},
     "nuid": "e64b5b00-2c09-47ba-bd2e-e1a4ce4e5f90",
     "showTitle": false,
     "tableResultSettingsMap": {},
     "title": ""
    }
   },
   "source": [
    "### Clean columns one by one "
   ]
  },
  {
   "cell_type": "code",
   "execution_count": 7,
   "metadata": {
    "application/vnd.databricks.v1+cell": {
     "cellMetadata": {
      "byteLimit": 2048000,
      "rowLimit": 10000
     },
     "inputWidgets": {},
     "nuid": "71acab8c-caf1-4fe3-947a-7c7711a58de3",
     "showTitle": false,
     "tableResultSettingsMap": {},
     "title": ""
    }
   },
   "outputs": [],
   "source": [
    "df['name'] = df['name'].fillna(\"No name\")"
   ]
  },
  {
   "cell_type": "code",
   "execution_count": 8,
   "metadata": {
    "application/vnd.databricks.v1+cell": {
     "cellMetadata": {
      "byteLimit": 2048000,
      "rowLimit": 10000
     },
     "inputWidgets": {},
     "nuid": "a595c6d0-61e2-486f-a7e5-7ef2513f2b14",
     "showTitle": false,
     "tableResultSettingsMap": {},
     "title": ""
    }
   },
   "outputs": [],
   "source": [
    "df['description'] = df['description'].fillna(\"No description\")"
   ]
  },
  {
   "cell_type": "code",
   "execution_count": 9,
   "metadata": {
    "application/vnd.databricks.v1+cell": {
     "cellMetadata": {
      "byteLimit": 2048000,
      "rowLimit": 10000
     },
     "inputWidgets": {},
     "nuid": "e0e76d8d-1617-40e3-86a7-875be440197d",
     "showTitle": false,
     "tableResultSettingsMap": {},
     "title": ""
    }
   },
   "outputs": [
    {
     "name": "stderr",
     "output_type": "stream",
     "text": [
      "C:\\Users\\evanthiel\\AppData\\Local\\Temp\\ipykernel_28024\\2251509449.py:1: FutureWarning: A value is trying to be set on a copy of a DataFrame or Series through chained assignment using an inplace method.\n",
      "The behavior will change in pandas 3.0. This inplace method will never work because the intermediate object on which we are setting values always behaves as a copy.\n",
      "\n",
      "For example, when doing 'df[col].method(value, inplace=True)', try using 'df.method({col: value}, inplace=True)' or df[col] = df[col].method(value) instead, to perform the operation inplace on the original object.\n",
      "\n",
      "\n",
      "  df['accommodates'].fillna(1, inplace=True)\n"
     ]
    }
   ],
   "source": [
    "df['accommodates'].fillna(1, inplace=True)"
   ]
  },
  {
   "cell_type": "code",
   "execution_count": 10,
   "metadata": {
    "application/vnd.databricks.v1+cell": {
     "cellMetadata": {
      "byteLimit": 2048000,
      "rowLimit": 10000
     },
     "inputWidgets": {},
     "nuid": "b0c3bfaf-1ec6-42ef-b389-5040d8c7c42e",
     "showTitle": false,
     "tableResultSettingsMap": {},
     "title": ""
    }
   },
   "outputs": [
    {
     "name": "stderr",
     "output_type": "stream",
     "text": [
      "C:\\Users\\evanthiel\\AppData\\Local\\Temp\\ipykernel_28024\\133213333.py:3: FutureWarning: A value is trying to be set on a copy of a DataFrame or Series through chained assignment using an inplace method.\n",
      "The behavior will change in pandas 3.0. This inplace method will never work because the intermediate object on which we are setting values always behaves as a copy.\n",
      "\n",
      "For example, when doing 'df[col].method(value, inplace=True)', try using 'df.method({col: value}, inplace=True)' or df[col] = df[col].method(value) instead, to perform the operation inplace on the original object.\n",
      "\n",
      "\n",
      "  df['bathrooms'].fillna(df['bathrooms_text_num'], inplace=True)\n",
      "C:\\Users\\evanthiel\\AppData\\Local\\Temp\\ipykernel_28024\\133213333.py:4: FutureWarning: A value is trying to be set on a copy of a DataFrame or Series through chained assignment using an inplace method.\n",
      "The behavior will change in pandas 3.0. This inplace method will never work because the intermediate object on which we are setting values always behaves as a copy.\n",
      "\n",
      "For example, when doing 'df[col].method(value, inplace=True)', try using 'df.method({col: value}, inplace=True)' or df[col] = df[col].method(value) instead, to perform the operation inplace on the original object.\n",
      "\n",
      "\n",
      "  df['bathrooms'].fillna(1, inplace=True)\n"
     ]
    }
   ],
   "source": [
    "df['bathrooms_text_num'] = df['bathrooms_text'].str.extract(r'(\\d+\\.?\\d*)')\n",
    "df['bathrooms_text_num'] = pd.to_numeric(df['bathrooms_text_num'], errors='coerce')\n",
    "df['bathrooms'].fillna(df['bathrooms_text_num'], inplace=True)\n",
    "df['bathrooms'].fillna(1, inplace=True)\n",
    "df = df.drop(columns=['bathrooms_text', 'bathrooms_text_num'])"
   ]
  },
  {
   "cell_type": "code",
   "execution_count": 11,
   "metadata": {
    "application/vnd.databricks.v1+cell": {
     "cellMetadata": {
      "byteLimit": 2048000,
      "rowLimit": 10000
     },
     "inputWidgets": {},
     "nuid": "2aabf79a-f2ad-4fa0-9cb6-1929aadb59e0",
     "showTitle": false,
     "tableResultSettingsMap": {},
     "title": ""
    }
   },
   "outputs": [
    {
     "name": "stderr",
     "output_type": "stream",
     "text": [
      "C:\\Users\\evanthiel\\AppData\\Local\\Temp\\ipykernel_28024\\2126086797.py:1: FutureWarning: A value is trying to be set on a copy of a DataFrame or Series through chained assignment using an inplace method.\n",
      "The behavior will change in pandas 3.0. This inplace method will never work because the intermediate object on which we are setting values always behaves as a copy.\n",
      "\n",
      "For example, when doing 'df[col].method(value, inplace=True)', try using 'df.method({col: value}, inplace=True)' or df[col] = df[col].method(value) instead, to perform the operation inplace on the original object.\n",
      "\n",
      "\n",
      "  df['bedrooms'].fillna(df['accommodates'], inplace=True)\n"
     ]
    }
   ],
   "source": [
    "df['bedrooms'].fillna(df['accommodates'], inplace=True)"
   ]
  },
  {
   "cell_type": "code",
   "execution_count": 12,
   "metadata": {
    "application/vnd.databricks.v1+cell": {
     "cellMetadata": {
      "byteLimit": 2048000,
      "rowLimit": 10000
     },
     "inputWidgets": {},
     "nuid": "b443f5df-62ea-4b63-bfc7-c9cb77774ddf",
     "showTitle": false,
     "tableResultSettingsMap": {},
     "title": ""
    }
   },
   "outputs": [
    {
     "name": "stderr",
     "output_type": "stream",
     "text": [
      "C:\\Users\\evanthiel\\AppData\\Local\\Temp\\ipykernel_28024\\198164016.py:1: FutureWarning: A value is trying to be set on a copy of a DataFrame or Series through chained assignment using an inplace method.\n",
      "The behavior will change in pandas 3.0. This inplace method will never work because the intermediate object on which we are setting values always behaves as a copy.\n",
      "\n",
      "For example, when doing 'df[col].method(value, inplace=True)', try using 'df.method({col: value}, inplace=True)' or df[col] = df[col].method(value) instead, to perform the operation inplace on the original object.\n",
      "\n",
      "\n",
      "  df['beds'].fillna(df['bedrooms'], inplace=True)\n"
     ]
    }
   ],
   "source": [
    "df['beds'].fillna(df['bedrooms'], inplace=True)"
   ]
  },
  {
   "cell_type": "markdown",
   "metadata": {
    "application/vnd.databricks.v1+cell": {
     "cellMetadata": {
      "batchId": -3734696322489541,
      "byteLimit": 2048000,
      "rowLimit": 10000
     },
     "inputWidgets": {},
     "nuid": "3c0aeb4d-de07-40d8-9e1d-562a512e863c",
     "showTitle": false,
     "tableResultSettingsMap": {},
     "title": ""
    }
   },
   "source": [
    "Here we select some amenities that are associated with higher prices and that occur reasonalby frequent. The others are removed"
   ]
  },
  {
   "cell_type": "code",
   "execution_count": 13,
   "metadata": {
    "application/vnd.databricks.v1+cell": {
     "cellMetadata": {
      "byteLimit": 2048000,
      "rowLimit": 10000
     },
     "inputWidgets": {},
     "nuid": "52b48eb0-469f-497d-8fab-e2a0c5c6907d",
     "showTitle": false,
     "tableResultSettingsMap": {},
     "title": ""
    }
   },
   "outputs": [
    {
     "name": "stderr",
     "output_type": "stream",
     "text": [
      "C:\\Users\\evanthiel\\AppData\\Local\\Temp\\ipykernel_28024\\1418575583.py:8: FutureWarning: A value is trying to be set on a copy of a DataFrame or Series through chained assignment using an inplace method.\n",
      "The behavior will change in pandas 3.0. This inplace method will never work because the intermediate object on which we are setting values always behaves as a copy.\n",
      "\n",
      "For example, when doing 'df[col].method(value, inplace=True)', try using 'df.method({col: value}, inplace=True)' or df[col] = df[col].method(value) instead, to perform the operation inplace on the original object.\n",
      "\n",
      "\n",
      "  df['amenities'].fillna(\"[]\", inplace=True)\n"
     ]
    }
   ],
   "source": [
    "from collections import Counter\n",
    "import pandas as pd\n",
    "import numpy as np\n",
    "import ast\n",
    "from collections import defaultdict\n",
    "\n",
    "# Flatten the list column and count occurrences\n",
    "df['amenities'].fillna(\"[]\", inplace=True)\n",
    "df['amenities'] = df['amenities'].apply(ast.literal_eval) # only need to do this once, so if df state is preserved don't repeat this step\n",
    "category_counts = Counter([item for sublist in df['amenities'] for item in sublist]).most_common()\n",
    "\n",
    "# Look for amenities that indicate a high price\n",
    "total_records = len(df)\n",
    "amenity_price_sums = defaultdict(lambda: [0, 0])  # Format: {amenity: [total_price, count]}\n",
    "for amenities, price in zip(df['amenities'], df['price']):\n",
    "    for amenity in amenities:\n",
    "        amenity_price_sums[amenity][0] += price  # Sum prices\n",
    "        amenity_price_sums[amenity][1] += 1      # Count occurrences\n",
    "\n",
    "# Filter amenities that appear in more than 5% of total records\n",
    "threshold = 0.05 * total_records\n",
    "filtered_amenities = {amenity: values for amenity, values in amenity_price_sums.items() if values[1] > threshold}\n",
    "\n",
    "# Calculate average price for each filtered amenity\n",
    "amenity_avg_prices = {amenity: total / count for amenity, (total, count) in filtered_amenities.items()}\n",
    "\n",
    "# Sort by average price (descending)\n",
    "sorted_amenity_avg_prices = sorted(amenity_avg_prices.items(), key=lambda x: x[1], reverse=True)\n",
    "\n",
    "# ftake the first n items\n",
    "n = 20\n",
    "interesting_amenities = [label for label, avg_price in sorted_amenity_avg_prices][:n]\n",
    "\n",
    "# Remove amenities that are not interesting\n",
    "df['amenities'] = df['amenities'].apply(lambda x: [a for a in x if a in interesting_amenities])\n"
   ]
  },
  {
   "cell_type": "code",
   "execution_count": 14,
   "metadata": {
    "application/vnd.databricks.v1+cell": {
     "cellMetadata": {
      "byteLimit": 2048000,
      "rowLimit": 10000
     },
     "inputWidgets": {},
     "nuid": "1ffa555c-ddd6-47a1-a6da-14efc90cd1c9",
     "showTitle": false,
     "tableResultSettingsMap": {},
     "title": ""
    }
   },
   "outputs": [
    {
     "name": "stderr",
     "output_type": "stream",
     "text": [
      "C:\\Users\\evanthiel\\AppData\\Local\\Temp\\ipykernel_28024\\2821979411.py:1: FutureWarning: A value is trying to be set on a copy of a DataFrame or Series through chained assignment using an inplace method.\n",
      "The behavior will change in pandas 3.0. This inplace method will never work because the intermediate object on which we are setting values always behaves as a copy.\n",
      "\n",
      "For example, when doing 'df[col].method(value, inplace=True)', try using 'df.method({col: value}, inplace=True)' or df[col] = df[col].method(value) instead, to perform the operation inplace on the original object.\n",
      "\n",
      "\n",
      "  df['availability_365'].fillna(df['availability_365'].mean(), inplace=True)\n"
     ]
    }
   ],
   "source": [
    "df['availability_365'].fillna(df['availability_365'].mean(), inplace=True)"
   ]
  },
  {
   "cell_type": "code",
   "execution_count": 15,
   "metadata": {
    "application/vnd.databricks.v1+cell": {
     "cellMetadata": {
      "byteLimit": 2048000,
      "rowLimit": 10000
     },
     "inputWidgets": {},
     "nuid": "50695bae-0e5a-48fe-919a-a73efbd07e5e",
     "showTitle": false,
     "tableResultSettingsMap": {},
     "title": ""
    }
   },
   "outputs": [
    {
     "name": "stderr",
     "output_type": "stream",
     "text": [
      "C:\\Users\\evanthiel\\AppData\\Local\\Temp\\ipykernel_28024\\4278318201.py:1: FutureWarning: A value is trying to be set on a copy of a DataFrame or Series through chained assignment using an inplace method.\n",
      "The behavior will change in pandas 3.0. This inplace method will never work because the intermediate object on which we are setting values always behaves as a copy.\n",
      "\n",
      "For example, when doing 'df[col].method(value, inplace=True)', try using 'df.method({col: value}, inplace=True)' or df[col] = df[col].method(value) instead, to perform the operation inplace on the original object.\n",
      "\n",
      "\n",
      "  df['review_scores_value'].fillna(df['review_scores_value'].mean(), inplace=True)\n"
     ]
    }
   ],
   "source": [
    "df['review_scores_value'].fillna(df['review_scores_value'].mean(), inplace=True)"
   ]
  },
  {
   "cell_type": "markdown",
   "metadata": {
    "application/vnd.databricks.v1+cell": {
     "cellMetadata": {
      "batchId": -3734696322489541,
      "byteLimit": 2048000,
      "rowLimit": 10000
     },
     "inputWidgets": {},
     "nuid": "569362c5-06fa-493d-85c5-c668745faa33",
     "showTitle": false,
     "tableResultSettingsMap": {},
     "title": ""
    }
   },
   "source": [
    "### Save cleaned dataset"
   ]
  },
  {
   "cell_type": "code",
   "execution_count": 16,
   "metadata": {
    "application/vnd.databricks.v1+cell": {
     "cellMetadata": {
      "byteLimit": 2048000,
      "rowLimit": 10000
     },
     "inputWidgets": {},
     "nuid": "b1344638-23fc-4dd4-82ad-21f0907bb07a",
     "showTitle": false,
     "tableResultSettingsMap": {},
     "title": ""
    }
   },
   "outputs": [
    {
     "name": "stdout",
     "output_type": "stream",
     "text": [
      "+----+-----------+----------------------+-------------+---------+------------+---------+--------+----+---------+----------------+-------------------+-----+\n",
      "|name|description|neighbourhood_cleansed|property_type|room_type|accommodates|bathrooms|bedrooms|beds|amenities|availability_365|review_scores_value|price|\n",
      "+----+-----------+----------------------+-------------+---------+------------+---------+--------+----+---------+----------------+-------------------+-----+\n",
      "|   0|          0|                     0|            0|        0|           0|        0|       0|   0|        0|               0|                  0|    0|\n",
      "+----+-----------+----------------------+-------------+---------+------------+---------+--------+----+---------+----------------+-------------------+-----+\n",
      "\n",
      "Deleted: .//amsterdam.csv\n"
     ]
    }
   ],
   "source": [
    "from pyspark.sql.functions import col, sum\n",
    "\n",
    "spark_df = spark.createDataFrame(df)\n",
    "\n",
    "# Print any NaN values in the df\n",
    "nan_counts = spark_df.select([sum(col(c).isNull().cast(\"int\")).alias(c) for c in spark_df.columns])\n",
    "nan_counts.show()\n",
    "\n",
    "if databricks:\n",
    "\n",
    "    # Save as Delta Table\n",
    "    table_name = f\"{city}_airbnb_dataset\"\n",
    "    spark_df.write.format(\"delta\") \\\n",
    "        .mode(\"overwrite\") \\\n",
    "        .option(\"overwriteSchema\", \"true\") \\\n",
    "        .saveAsTable(table_name)\n",
    "\n",
    "else:\n",
    "    df.to_csv(f\"{city}_airbnb_dataset.csv\", index=False)\n",
    "\n",
    "# delete the loaded csv\n",
    "if os.path.exists(raw_data_path):\n",
    "    os.remove(raw_data_path)  # Delete the raw csv\n",
    "    print(f\"Deleted: {raw_data_path}\")"
   ]
  }
 ],
 "metadata": {
  "application/vnd.databricks.v1+notebook": {
   "computePreferences": null,
   "dashboards": [],
   "environmentMetadata": {
    "base_environment": "",
    "environment_version": "2"
   },
   "language": "python",
   "notebookMetadata": {
    "mostRecentlyExecutedCommandWithImplicitDF": {
     "commandId": 820236209416760,
     "dataframes": [
      "_sqldf"
     ]
    },
    "pythonIndentUnit": 4
   },
   "notebookName": "clean",
   "widgets": {
    "city": {
     "currentValue": "amsterdam",
     "nuid": "ce295c71-51fa-4ded-bf95-8ceb4810752a",
     "typedWidgetInfo": {
      "autoCreated": false,
      "defaultValue": "amsterdam",
      "label": null,
      "name": "city",
      "options": {
       "validationRegex": null,
       "widgetDisplayType": "Text"
      },
      "parameterDataType": "String"
     },
     "widgetInfo": {
      "defaultValue": "amsterdam",
      "label": null,
      "name": "city",
      "options": {
       "autoCreated": null,
       "validationRegex": null,
       "widgetType": "text"
      },
      "widgetType": "text"
     }
    },
    "url": {
     "currentValue": "https://data.insideairbnb.com/the-netherlands/north-holland/amsterdam/2024-09-05/data/listings.csv.gz",
     "nuid": "45a9eb5c-0d89-4c17-a058-96aa1425d60f",
     "typedWidgetInfo": {
      "autoCreated": false,
      "defaultValue": "https://data.insideairbnb.com/the-netherlands/north-holland/amsterdam/2024-09-05/data/listings.csv.gz",
      "label": null,
      "name": "url",
      "options": {
       "validationRegex": null,
       "widgetDisplayType": "Text"
      },
      "parameterDataType": "String"
     },
     "widgetInfo": {
      "defaultValue": "https://data.insideairbnb.com/the-netherlands/north-holland/amsterdam/2024-09-05/data/listings.csv.gz",
      "label": null,
      "name": "url",
      "options": {
       "autoCreated": null,
       "validationRegex": null,
       "widgetType": "text"
      },
      "widgetType": "text"
     }
    }
   }
  },
  "kernelspec": {
   "display_name": "Python (ml)",
   "language": "python",
   "name": "ml"
  },
  "language_info": {
   "codemirror_mode": {
    "name": "ipython",
    "version": 3
   },
   "file_extension": ".py",
   "mimetype": "text/x-python",
   "name": "python",
   "nbconvert_exporter": "python",
   "pygments_lexer": "ipython3",
   "version": "3.10.11"
  }
 },
 "nbformat": 4,
 "nbformat_minor": 4
}
