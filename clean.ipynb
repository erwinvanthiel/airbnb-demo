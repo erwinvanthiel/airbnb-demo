{
 "cells": [
  {
   "cell_type": "markdown",
   "metadata": {
    "application/vnd.databricks.v1+cell": {
     "cellMetadata": {
      "byteLimit": 2048000,
      "rowLimit": 10000
     },
     "inputWidgets": {},
     "nuid": "44bd780c-a897-49c7-ae9a-b682b5e61087",
     "showTitle": false,
     "tableResultSettingsMap": {},
     "title": ""
    }
   },
   "source": [
    "### View raw data"
   ]
  },
  {
   "cell_type": "code",
   "execution_count": 0,
   "metadata": {
    "application/vnd.databricks.v1+cell": {
     "cellMetadata": {
      "byteLimit": 2048000,
      "implicitDf": true,
      "rowLimit": 10000
     },
     "inputWidgets": {},
     "nuid": "32ee0203-626e-45e0-aefd-5c7eb539793e",
     "showTitle": false,
     "tableResultSettingsMap": {},
     "title": ""
    }
   },
   "outputs": [],
   "source": [
    "%sql\n",
    "SELECT * FROM default.listings LIMIT 10"
   ]
  },
  {
   "cell_type": "markdown",
   "metadata": {
    "application/vnd.databricks.v1+cell": {
     "cellMetadata": {
      "byteLimit": 2048000,
      "rowLimit": 10000
     },
     "inputWidgets": {},
     "nuid": "94963c49-e489-4722-8c82-d12233c36eaa",
     "showTitle": false,
     "tableResultSettingsMap": {},
     "title": ""
    }
   },
   "source": [
    "### Load listings.csv dataset and select useful feature columns"
   ]
  },
  {
   "cell_type": "markdown",
   "metadata": {
    "application/vnd.databricks.v1+cell": {
     "cellMetadata": {
      "byteLimit": 2048000,
      "rowLimit": 10000
     },
     "inputWidgets": {},
     "nuid": "bfb4af3e-0d24-460b-aa0b-d675d141cabd",
     "showTitle": false,
     "tableResultSettingsMap": {},
     "title": ""
    }
   },
   "source": [
    "The following columns could be of use in the price prediction: \n",
    "\n",
    "| Column Name              | Example Value | Description |\n",
    "|--------------------------|--------------|-------------|\n",
    "| name                     | \"Private, quiet studio in the centre with terrace\"            | title of the airbnb page, should be transformed to embedding           |\n",
    "| description              | \"All guests agree: the apartment  is perfect and the location even better. A real home away from home. Two bedrooms, a fully equipped kitchen, a living with a comfortable couch. Quiet area, next to the Museumplein with the 3 major Museums.\"            | description on the airbnb page, should be transformed to embedding       |\n",
    "| neighborhood_overview    | \"Near beach, harbor and canal. From livingroom you can see boats passing by\"          |  description of the neighborhood, should be transformed to embedding         |\n",
    "| neighborhood_cleansed    |    Centrum-West       | label for the neighborhood, needs to be one-hot-encoded           |\n",
    "| property_type           | Private room in guest suite            | label for the property type, needs to be one-hot-encoded           |\n",
    "| room_type                | Entire home/apt            | label for the room type, needs to be one-hot-encoded           |\n",
    "| accommodates            | 4            | the number of guests           |\n",
    "| bathrooms               | 1            | the number of bathrooms           |\n",
    "| bedrooms                | 2            | the number of bedrooms           |\n",
    "| beds                    | 1            | the number of beds          |\n",
    "| amenities               | [\"Central heating\", \"Shower gel\", \"Lake access\"]            | array of categorical variables, needs to be one-hot-encoded           |\n",
    "| availability_365        |   247          | number of days the airbnb is available per year           |\n",
    "| review_scores_value     | 4.75            | review score for the value of the airbnb           |\n",
    "\n"
   ]
  },
  {
   "cell_type": "markdown",
   "metadata": {
    "application/vnd.databricks.v1+cell": {
     "cellMetadata": {
      "byteLimit": 2048000,
      "rowLimit": 10000
     },
     "inputWidgets": {},
     "nuid": "bcadc592-63d2-4ee8-9489-ec7671e1364b",
     "showTitle": false,
     "tableResultSettingsMap": {},
     "title": ""
    }
   },
   "source": []
  },
  {
   "cell_type": "code",
   "execution_count": 0,
   "metadata": {
    "application/vnd.databricks.v1+cell": {
     "cellMetadata": {
      "byteLimit": 2048000,
      "rowLimit": 10000
     },
     "inputWidgets": {},
     "nuid": "f152687f-2593-4bc4-b716-8e06c59a4aa8",
     "showTitle": false,
     "tableResultSettingsMap": {},
     "title": ""
    }
   },
   "outputs": [],
   "source": [
    "# Load the data into dataframe\n",
    "df = spark.read.format(\"csv\") \\\n",
    ".option(\"header\", \"true\") \\\n",
    ".option(\"inferSchema\", \"true\") \\\n",
    ".option(\"sep\", \",\") \\\n",
    ".option(\"escape\", '\"') \\\n",
    ".option(\"encoding\", \"UTF-8\") \\\n",
    ".option(\"quote\", '\"') \\\n",
    ".option(\"multiLine\", \"true\") \\\n",
    ".load(\"/Volumes/workspace/airbnb/airbnb/listings.csv\").toPandas()\n",
    "\n",
    "# Select specific columns\n",
    "selected_columns = [\n",
    "    \"name\", \"description\", \"neighborhood_overview\", \"neighbourhood_cleansed\",\n",
    "    \"property_type\", \"room_type\", \"accommodates\", \"bathrooms\", \"bathrooms_text\", \"bedrooms\",\n",
    "    \"beds\", \"amenities\", \"availability_365\", \"review_scores_value\", \"price\"\n",
    "]\n",
    "\n",
    "# Selecting the specified columns\n",
    "df = df[selected_columns]\n",
    "\n",
    "# Filter out records without price\n",
    "df = df[df['price'].notna()]\n",
    "df['price'] = df['price'].str.extract(r'(\\d+\\.?\\d*)')\n",
    "df['price'] = pd.to_numeric(df['price'], errors='coerce')\n",
    "\n",
    "\n",
    "# Display the first few rows\n",
    "display(df)\n"
   ]
  },
  {
   "cell_type": "markdown",
   "metadata": {
    "application/vnd.databricks.v1+cell": {
     "cellMetadata": {
      "byteLimit": 2048000,
      "rowLimit": 10000
     },
     "inputWidgets": {},
     "nuid": "e64b5b00-2c09-47ba-bd2e-e1a4ce4e5f90",
     "showTitle": false,
     "tableResultSettingsMap": {},
     "title": ""
    }
   },
   "source": [
    "### Pre-process columns one by one "
   ]
  },
  {
   "cell_type": "markdown",
   "metadata": {
    "application/vnd.databricks.v1+cell": {
     "cellMetadata": {
      "byteLimit": 2048000,
      "rowLimit": 10000
     },
     "inputWidgets": {},
     "nuid": "95c01f81-1124-407d-9d6a-85ac6cb1c97b",
     "showTitle": false,
     "tableResultSettingsMap": {},
     "title": ""
    }
   },
   "source": [
    "1. <b>Name</b>: create text embeddings to capture semantics embeddings"
   ]
  },
  {
   "cell_type": "code",
   "execution_count": 0,
   "metadata": {
    "application/vnd.databricks.v1+cell": {
     "cellMetadata": {
      "byteLimit": 2048000,
      "rowLimit": 10000
     },
     "inputWidgets": {},
     "nuid": "633bb230-7066-403f-9c32-6cdb063edfef",
     "showTitle": false,
     "tableResultSettingsMap": {},
     "title": ""
    }
   },
   "outputs": [],
   "source": [
    "%pip install sentence-transformers"
   ]
  },
  {
   "cell_type": "code",
   "execution_count": 0,
   "metadata": {
    "application/vnd.databricks.v1+cell": {
     "cellMetadata": {
      "byteLimit": 2048000,
      "rowLimit": 10000
     },
     "inputWidgets": {},
     "nuid": "71acab8c-caf1-4fe3-947a-7c7711a58de3",
     "showTitle": false,
     "tableResultSettingsMap": {},
     "title": ""
    }
   },
   "outputs": [],
   "source": [
    "from sentence_transformers import SentenceTransformer\n",
    "import numpy as np\n",
    "\n",
    "# Load a pre-trained model (optimized for sentence embeddings)\n",
    "model = SentenceTransformer(\"sentence-transformers/all-MiniLM-L6-v2\")\n",
    "\n",
    "df['name'] = df['name'].fillna(\"\")\n",
    "names = np.array(df['name'])\n",
    "\n",
    "# Generate embeddings\n",
    "name_embeddings = model.encode(names)\n"
   ]
  },
  {
   "cell_type": "markdown",
   "metadata": {
    "application/vnd.databricks.v1+cell": {
     "cellMetadata": {
      "byteLimit": 2048000,
      "rowLimit": 10000
     },
     "inputWidgets": {},
     "nuid": "51c38997-8185-4108-9d4b-ba4a5566efc8",
     "showTitle": false,
     "tableResultSettingsMap": {},
     "title": ""
    }
   },
   "source": [
    "2. <b>Description</b>: create text embeddings to capture semantics embeddings"
   ]
  },
  {
   "cell_type": "code",
   "execution_count": 0,
   "metadata": {
    "application/vnd.databricks.v1+cell": {
     "cellMetadata": {
      "byteLimit": 2048000,
      "rowLimit": 10000
     },
     "inputWidgets": {},
     "nuid": "a595c6d0-61e2-486f-a7e5-7ef2513f2b14",
     "showTitle": false,
     "tableResultSettingsMap": {},
     "title": ""
    }
   },
   "outputs": [],
   "source": [
    "df['description'] = df['description'].fillna(\"\")\n",
    "descriptions = np.array(df['description'])\n",
    "description_embeddings = model.encode(descriptions)"
   ]
  },
  {
   "cell_type": "markdown",
   "metadata": {
    "application/vnd.databricks.v1+cell": {
     "cellMetadata": {
      "byteLimit": 2048000,
      "rowLimit": 10000
     },
     "inputWidgets": {},
     "nuid": "404ec97c-43e4-4837-882f-c7e7054d0ebd",
     "showTitle": false,
     "tableResultSettingsMap": {},
     "title": ""
    }
   },
   "source": [
    "3. <b>Neighbourhood overview</b>: create text embeddings to capture semantics embeddings"
   ]
  },
  {
   "cell_type": "code",
   "execution_count": 0,
   "metadata": {
    "application/vnd.databricks.v1+cell": {
     "cellMetadata": {
      "byteLimit": 2048000,
      "rowLimit": 10000
     },
     "inputWidgets": {},
     "nuid": "408f924f-56ac-443e-99b8-0a96cb3c2a23",
     "showTitle": false,
     "tableResultSettingsMap": {},
     "title": ""
    }
   },
   "outputs": [],
   "source": [
    "df['neighborhood_overview'] = df['neighborhood_overview'].fillna(\"\")\n",
    "neighborhood_overviews = np.array(df['neighborhood_overview'])\n",
    "neighborhood_overview_embeddings = model.encode(neighborhood_overviews)"
   ]
  },
  {
   "cell_type": "markdown",
   "metadata": {
    "application/vnd.databricks.v1+cell": {
     "cellMetadata": {
      "byteLimit": 2048000,
      "rowLimit": 10000
     },
     "inputWidgets": {},
     "nuid": "94822f22-d4fc-4969-bdc5-39be6e64a953",
     "showTitle": false,
     "tableResultSettingsMap": {},
     "title": ""
    }
   },
   "source": [
    "4. <b>Neighbourhood cleansed</b>: create one-hot-encodings"
   ]
  },
  {
   "cell_type": "code",
   "execution_count": 0,
   "metadata": {
    "application/vnd.databricks.v1+cell": {
     "cellMetadata": {
      "byteLimit": 2048000,
      "rowLimit": 10000
     },
     "inputWidgets": {},
     "nuid": "eeec0244-59a2-418f-a0a4-9bb7ed1718b7",
     "showTitle": false,
     "tableResultSettingsMap": {},
     "title": ""
    }
   },
   "outputs": [],
   "source": [
    "from sklearn.preprocessing import OneHotEncoder\n",
    "\n",
    "categories = np.array(df['neighbourhood_cleansed'])\n",
    "encoder = OneHotEncoder()\n",
    "neighborhood_ohe = encoder.fit_transform(categories.reshape(-1, 1))\n"
   ]
  },
  {
   "cell_type": "markdown",
   "metadata": {
    "application/vnd.databricks.v1+cell": {
     "cellMetadata": {
      "byteLimit": 2048000,
      "rowLimit": 10000
     },
     "inputWidgets": {},
     "nuid": "ea5a0ff6-b392-42d2-973b-61457db82cef",
     "showTitle": false,
     "tableResultSettingsMap": {},
     "title": ""
    }
   },
   "source": [
    "5. <b>Property type</b>: create one-hot-encodings"
   ]
  },
  {
   "cell_type": "code",
   "execution_count": 0,
   "metadata": {
    "application/vnd.databricks.v1+cell": {
     "cellMetadata": {
      "byteLimit": 2048000,
      "rowLimit": 10000
     },
     "inputWidgets": {},
     "nuid": "fd11430b-bdeb-4694-814c-8700812224db",
     "showTitle": false,
     "tableResultSettingsMap": {},
     "title": ""
    }
   },
   "outputs": [],
   "source": [
    "categories = np.array(df['property_type'])\n",
    "encoder = OneHotEncoder()\n",
    "property_types_ohe = encoder.fit_transform(categories.reshape(-1, 1))"
   ]
  },
  {
   "cell_type": "markdown",
   "metadata": {
    "application/vnd.databricks.v1+cell": {
     "cellMetadata": {
      "byteLimit": 2048000,
      "rowLimit": 10000
     },
     "inputWidgets": {},
     "nuid": "61eb4040-1dcb-4c13-bdc4-b44955af51bd",
     "showTitle": false,
     "tableResultSettingsMap": {},
     "title": ""
    }
   },
   "source": [
    "6. <b>Room type</b>: create one-hot-encodings"
   ]
  },
  {
   "cell_type": "code",
   "execution_count": 0,
   "metadata": {
    "application/vnd.databricks.v1+cell": {
     "cellMetadata": {
      "byteLimit": 2048000,
      "rowLimit": 10000
     },
     "inputWidgets": {},
     "nuid": "46037d48-84b3-40a2-ad27-331a9cc96e06",
     "showTitle": false,
     "tableResultSettingsMap": {},
     "title": ""
    }
   },
   "outputs": [],
   "source": [
    "categories = np.array(df['room_type'])\n",
    "encoder = OneHotEncoder()\n",
    "room_types_ohe = encoder.fit_transform(categories.reshape(-1, 1))"
   ]
  },
  {
   "cell_type": "markdown",
   "metadata": {
    "application/vnd.databricks.v1+cell": {
     "cellMetadata": {
      "byteLimit": 2048000,
      "rowLimit": 10000
     },
     "inputWidgets": {},
     "nuid": "028677ec-c0bd-4b4d-9ef6-7c8a9be6f046",
     "showTitle": false,
     "tableResultSettingsMap": {},
     "title": ""
    }
   },
   "source": [
    "7. <b>Accomodates</b>: normalize using Mix-Max scaling"
   ]
  },
  {
   "cell_type": "code",
   "execution_count": 0,
   "metadata": {
    "application/vnd.databricks.v1+cell": {
     "cellMetadata": {
      "byteLimit": 2048000,
      "rowLimit": 10000
     },
     "inputWidgets": {},
     "nuid": "e0e76d8d-1617-40e3-86a7-875be440197d",
     "showTitle": false,
     "tableResultSettingsMap": {},
     "title": ""
    }
   },
   "outputs": [],
   "source": [
    "from sklearn.preprocessing import MinMaxScaler\n",
    "\n",
    "# Initialize MinMaxScaler\n",
    "scaler = MinMaxScaler()\n",
    "\n",
    "# Apply Min-Max Scaling\n",
    "df['accommodates'].fillna(1, inplace=True)\n",
    "accomodates_normalized = scaler.fit_transform(df[['accommodates']])"
   ]
  },
  {
   "cell_type": "markdown",
   "metadata": {
    "application/vnd.databricks.v1+cell": {
     "cellMetadata": {
      "byteLimit": 2048000,
      "rowLimit": 10000
     },
     "inputWidgets": {},
     "nuid": "8c7b5c72-102a-4ceb-a35d-b0dab89a0331",
     "showTitle": false,
     "tableResultSettingsMap": {},
     "title": ""
    }
   },
   "source": [
    "8. <b>Number of **bathrooms**</b>: normalize using Mix-Max scaling"
   ]
  },
  {
   "cell_type": "code",
   "execution_count": 0,
   "metadata": {
    "application/vnd.databricks.v1+cell": {
     "cellMetadata": {
      "byteLimit": 2048000,
      "rowLimit": 10000
     },
     "inputWidgets": {},
     "nuid": "b0c3bfaf-1ec6-42ef-b389-5040d8c7c42e",
     "showTitle": false,
     "tableResultSettingsMap": {},
     "title": ""
    }
   },
   "outputs": [],
   "source": [
    "df['bathrooms_text_num'] = df['bathrooms_text'].str.extract(r'(\\d+\\.?\\d*)')\n",
    "df['bathrooms_text_num'] = pd.to_numeric(df['bathrooms_text_num'], errors='coerce')\n",
    "df['bathrooms'].fillna(df['bathrooms_text_num'], inplace=True)\n",
    "df['bathrooms'].fillna(1, inplace=True)\n",
    "bathrooms_normalized = scaler.fit_transform(df[['bathrooms']])"
   ]
  },
  {
   "cell_type": "markdown",
   "metadata": {
    "application/vnd.databricks.v1+cell": {
     "cellMetadata": {
      "byteLimit": 2048000,
      "rowLimit": 10000
     },
     "inputWidgets": {},
     "nuid": "0e116a1c-8aa6-44b1-a538-f438e830d344",
     "showTitle": false,
     "tableResultSettingsMap": {},
     "title": ""
    }
   },
   "source": [
    "9. <b>Number of **bedrooms**</b>: normalize using Mix-Max scaling"
   ]
  },
  {
   "cell_type": "code",
   "execution_count": 0,
   "metadata": {
    "application/vnd.databricks.v1+cell": {
     "cellMetadata": {
      "byteLimit": 2048000,
      "rowLimit": 10000
     },
     "inputWidgets": {},
     "nuid": "2aabf79a-f2ad-4fa0-9cb6-1929aadb59e0",
     "showTitle": false,
     "tableResultSettingsMap": {},
     "title": ""
    }
   },
   "outputs": [],
   "source": [
    "df['bedrooms'].fillna(df['accommodates'], inplace=True)\n",
    "bedrooms_normalized = scaler.fit_transform(df[['bedrooms']])"
   ]
  },
  {
   "cell_type": "markdown",
   "metadata": {
    "application/vnd.databricks.v1+cell": {
     "cellMetadata": {
      "byteLimit": 2048000,
      "rowLimit": 10000
     },
     "inputWidgets": {},
     "nuid": "02c4efdc-0a3a-4f06-9255-469195c2eef5",
     "showTitle": false,
     "tableResultSettingsMap": {},
     "title": ""
    }
   },
   "source": [
    "> 10. <b>Number of **beds**</b>: normalize using Mix-Max scaling"
   ]
  },
  {
   "cell_type": "code",
   "execution_count": 0,
   "metadata": {
    "application/vnd.databricks.v1+cell": {
     "cellMetadata": {
      "byteLimit": 2048000,
      "rowLimit": 10000
     },
     "inputWidgets": {},
     "nuid": "b443f5df-62ea-4b63-bfc7-c9cb77774ddf",
     "showTitle": false,
     "tableResultSettingsMap": {},
     "title": ""
    }
   },
   "outputs": [],
   "source": [
    "df['beds'].fillna(df['bedrooms'], inplace=True)\n",
    "beds_normalized = scaler.fit_transform(df[['beds']])"
   ]
  },
  {
   "cell_type": "markdown",
   "metadata": {
    "application/vnd.databricks.v1+cell": {
     "cellMetadata": {
      "byteLimit": 2048000,
      "rowLimit": 10000
     },
     "inputWidgets": {},
     "nuid": "ad395e22-6287-42a5-b62e-b38428562bfa",
     "showTitle": false,
     "tableResultSettingsMap": {},
     "title": ""
    }
   },
   "source": [
    "> 11. <b>Amenities</b>: Find distribution and perform one-hot-encoding of top n occuring amenities"
   ]
  },
  {
   "cell_type": "code",
   "execution_count": 0,
   "metadata": {
    "application/vnd.databricks.v1+cell": {
     "cellMetadata": {
      "byteLimit": 2048000,
      "rowLimit": 10000
     },
     "inputWidgets": {},
     "nuid": "52b48eb0-469f-497d-8fab-e2a0c5c6907d",
     "showTitle": false,
     "tableResultSettingsMap": {},
     "title": ""
    }
   },
   "outputs": [],
   "source": [
    "from collections import Counter\n",
    "import pandas as pd\n",
    "import numpy as np\n",
    "import ast\n",
    "\n",
    "# Flatten the list column and count occurrences\n",
    "df['amenities'].fillna(\"[]\", inplace=True)\n",
    "df['amenities'] = df['amenities'].apply(ast.literal_eval) # only need to do this once, so if df state is preserved don't repeat this step\n",
    "category_counts = Counter([item for sublist in df['amenities'] for item in sublist]).most_common()\n",
    "\n",
    "# filter on frequency threshold n\n",
    "n = 100\n",
    "filtered_amenities = [label for label, count in category_counts if count > n]\n",
    "\n",
    "# create one-hot encoded matrix\n",
    "amenity_ohe = np.zeros((len(df), len(filtered_amenities)))\n",
    "amenity_indices = [np.nonzero(np.isin(filtered_amenities, amenity_array))[0] for amenity_array in df['amenities']]\n",
    "for i, indices in enumerate(amenity_indices):\n",
    "    amenity_ohe[i, indices] = 1\n",
    "\n",
    "\n"
   ]
  },
  {
   "cell_type": "markdown",
   "metadata": {
    "application/vnd.databricks.v1+cell": {
     "cellMetadata": {
      "byteLimit": 2048000,
      "rowLimit": 10000
     },
     "inputWidgets": {},
     "nuid": "53eca6e5-37cb-4583-9fa1-853c19d37d62",
     "showTitle": false,
     "tableResultSettingsMap": {},
     "title": ""
    }
   },
   "source": [
    "11. <b>Availability</b>: normalize using division by 365"
   ]
  },
  {
   "cell_type": "code",
   "execution_count": 0,
   "metadata": {
    "application/vnd.databricks.v1+cell": {
     "cellMetadata": {
      "byteLimit": 2048000,
      "rowLimit": 10000
     },
     "inputWidgets": {},
     "nuid": "1ffa555c-ddd6-47a1-a6da-14efc90cd1c9",
     "showTitle": false,
     "tableResultSettingsMap": {},
     "title": ""
    }
   },
   "outputs": [],
   "source": [
    "df['availability_365'].fillna(df['availability_365'].mean(), inplace=True)\n",
    "availability = np.array(df['availability_365'] / 365)"
   ]
  },
  {
   "cell_type": "markdown",
   "metadata": {
    "application/vnd.databricks.v1+cell": {
     "cellMetadata": {
      "byteLimit": 2048000,
      "rowLimit": 10000
     },
     "inputWidgets": {},
     "nuid": "0ec66aa5-e39e-4927-8fac-263e00266637",
     "showTitle": false,
     "tableResultSettingsMap": {},
     "title": ""
    }
   },
   "source": [
    "11. <b>Review score for value</b>: normalize using division by 5"
   ]
  },
  {
   "cell_type": "code",
   "execution_count": 0,
   "metadata": {
    "application/vnd.databricks.v1+cell": {
     "cellMetadata": {
      "byteLimit": 2048000,
      "rowLimit": 10000
     },
     "inputWidgets": {},
     "nuid": "50695bae-0e5a-48fe-919a-a73efbd07e5e",
     "showTitle": false,
     "tableResultSettingsMap": {},
     "title": ""
    }
   },
   "outputs": [],
   "source": [
    "df['review_scores_value'].fillna(df['review_scores_value'].mean(), inplace=True)\n",
    "review_score_value = np.array(df['review_scores_value'] / 5)"
   ]
  },
  {
   "cell_type": "markdown",
   "metadata": {
    "application/vnd.databricks.v1+cell": {
     "cellMetadata": {
      "byteLimit": 2048000,
      "rowLimit": 10000
     },
     "inputWidgets": {},
     "nuid": "569362c5-06fa-493d-85c5-c668745faa33",
     "showTitle": false,
     "tableResultSettingsMap": {},
     "title": ""
    }
   },
   "source": [
    "### Concatenate feature columns and save cleaned dataset"
   ]
  },
  {
   "cell_type": "code",
   "execution_count": 0,
   "metadata": {
    "application/vnd.databricks.v1+cell": {
     "cellMetadata": {
      "byteLimit": 2048000,
      "rowLimit": 10000
     },
     "inputWidgets": {},
     "nuid": "b1344638-23fc-4dd4-82ad-21f0907bb07a",
     "showTitle": false,
     "tableResultSettingsMap": {},
     "title": ""
    }
   },
   "outputs": [],
   "source": [
    "from sklearn.model_selection import train_test_split\n",
    "\n",
    "# Construct dataset features\n",
    "columns = [name_embeddings, description_embeddings, neighborhood_overview_embeddings, neighborhood_ohe.toarray(), property_types_ohe.toarray(), room_types_ohe.toarray(), accomodates_normalized, bathrooms_normalized, bedrooms_normalized, beds_normalized, amenity_ohe, availability.reshape(-1,1), review_score_value.reshape(-1,1)]\n",
    "columns = [np.array(column.astype(np.float32)) for column in columns]\n",
    "x = np.concatenate(columns, axis=1)\n",
    "y = np.array(df['price'])\n",
    "  \n",
    "# Convert NumPy arrays to Pandas DataFrame\n",
    "columns = [f\"feature_{i}\" for i in range(x.shape[1])]  # Generate column names\n",
    "dataset = pd.DataFrame(x, columns=columns)\n",
    "dataset[\"price\"] = y\n",
    "\n",
    "# Convert Pandas DataFrame to Spark DataFrame\n",
    "spark_df = spark.createDataFrame(dataset)\n",
    "\n",
    "# Save as Delta Table in Databricks\n",
    "table_name = \"airbnb_dataset\"\n",
    "spark_df.write.format(\"delta\") \\\n",
    "    .mode(\"overwrite\") \\\n",
    "    .option(\"overwriteSchema\", \"true\") \\\n",
    "    .saveAsTable(table_name)\n"
   ]
  }
 ],
 "metadata": {
  "application/vnd.databricks.v1+notebook": {
   "computePreferences": null,
   "dashboards": [],
   "environmentMetadata": {
    "base_environment": "",
    "environment_version": "2"
   },
   "language": "python",
   "notebookMetadata": {
    "mostRecentlyExecutedCommandWithImplicitDF": {
     "commandId": 820236209416760,
     "dataframes": [
      "_sqldf"
     ]
    },
    "pythonIndentUnit": 4
   },
   "notebookName": "clean",
   "widgets": {}
  },
  "language_info": {
   "name": "python"
  }
 },
 "nbformat": 4,
 "nbformat_minor": 0
}
