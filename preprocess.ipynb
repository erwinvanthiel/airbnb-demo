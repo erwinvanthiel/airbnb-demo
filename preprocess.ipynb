{
 "cells": [
  {
   "cell_type": "markdown",
   "metadata": {
    "application/vnd.databricks.v1+cell": {
     "cellMetadata": {},
     "inputWidgets": {},
     "nuid": "44bd780c-a897-49c7-ae9a-b682b5e61087",
     "showTitle": false,
     "tableResultSettingsMap": {},
     "title": ""
    }
   },
   "source": [
    "### View raw data"
   ]
  },
  {
   "cell_type": "code",
   "execution_count": 0,
   "metadata": {
    "application/vnd.databricks.v1+cell": {
     "cellMetadata": {
      "byteLimit": 2048000,
      "implicitDf": true,
      "rowLimit": 10000
     },
     "inputWidgets": {},
     "nuid": "32ee0203-626e-45e0-aefd-5c7eb539793e",
     "showTitle": false,
     "tableResultSettingsMap": {},
     "title": ""
    }
   },
   "outputs": [],
   "source": [
    "%sql\n",
    "SELECT * FROM default.listings LIMIT 10"
   ]
  },
  {
   "cell_type": "markdown",
   "metadata": {
    "application/vnd.databricks.v1+cell": {
     "cellMetadata": {},
     "inputWidgets": {},
     "nuid": "94963c49-e489-4722-8c82-d12233c36eaa",
     "showTitle": false,
     "tableResultSettingsMap": {},
     "title": ""
    }
   },
   "source": [
    "### Load .csv and select useful feature columns"
   ]
  },
  {
   "cell_type": "markdown",
   "metadata": {
    "application/vnd.databricks.v1+cell": {
     "cellMetadata": {},
     "inputWidgets": {},
     "nuid": "bfb4af3e-0d24-460b-aa0b-d675d141cabd",
     "showTitle": false,
     "tableResultSettingsMap": {},
     "title": ""
    }
   },
   "source": [
    "The following columns could be of use in the price prediction: \n",
    "\n",
    "| Column Name              | Example Value | Description |\n",
    "|--------------------------|--------------|-------------|\n",
    "| name                     | \"Private, quiet studio in the centre with terrace\"            | title of the airbnb page, should be transformed to embedding           |\n",
    "| description              | \"All guests agree: the apartment  is perfect and the location even better. A real home away from home. Two bedrooms, a fully equipped kitchen, a living with a comfortable couch. Quiet area, next to the Museumplein with the 3 major Museums.\"            | description on the airbnb page, should be transformed to embedding       |\n",
    "| neighborhood_overview    | \"Near beach, harbor and canal. From livingroom you can see boats passing by\"          |  description of the neighborhood, should be transformed to embedding         |\n",
    "| neighborhood_cleansed    |    Centrum-West       | label for the neighborhood, needs to be one-hot-encoded           |\n",
    "| property_type           | Private room in guest suite            | label for the property type, needs to be one-hot-encoded           |\n",
    "| room_type                | Entire home/apt            | label for the room type, needs to be one-hot-encoded           |\n",
    "| accommodates            | 4            | the number of guests           |\n",
    "| bathrooms               | 1            | the number of bathrooms           |\n",
    "| bedrooms                | 2            | the number of bedrooms           |\n",
    "| beds                    | 1            | the number of beds          |\n",
    "| amenities               | [\"Central heating\", \"Shower gel\", \"Lake access\"]            | array of categorical variables, needs to be one-hot-encoded           |\n",
    "| availability_365        |   247          | number of days the airbnb is available per year           |\n",
    "| review_scores_value     | 4.75            | review score for the value of the airbnb           |\n",
    "\n"
   ]
  },
  {
   "cell_type": "markdown",
   "metadata": {
    "application/vnd.databricks.v1+cell": {
     "cellMetadata": {},
     "inputWidgets": {},
     "nuid": "bcadc592-63d2-4ee8-9489-ec7671e1364b",
     "showTitle": false,
     "tableResultSettingsMap": {},
     "title": ""
    }
   },
   "source": []
  },
  {
   "cell_type": "code",
   "execution_count": 0,
   "metadata": {
    "application/vnd.databricks.v1+cell": {
     "cellMetadata": {
      "byteLimit": 2048000,
      "rowLimit": 10000
     },
     "inputWidgets": {},
     "nuid": "f152687f-2593-4bc4-b716-8e06c59a4aa8",
     "showTitle": false,
     "tableResultSettingsMap": {},
     "title": ""
    }
   },
   "outputs": [],
   "source": [
    "# Load the data into dataframe\n",
    "df = spark.read.format(\"csv\") \\\n",
    ".option(\"header\", \"true\") \\\n",
    ".option(\"inferSchema\", \"true\") \\\n",
    ".option(\"sep\", \",\") \\\n",
    ".option(\"escape\", '\"') \\\n",
    ".option(\"encoding\", \"UTF-8\") \\\n",
    ".option(\"quote\", '\"') \\\n",
    ".option(\"multiLine\", \"true\") \\\n",
    ".load(\"/Volumes/workspace/airbnb/airbnb/listings.csv\").toPandas()\n",
    "\n",
    "# Select specific columns\n",
    "selected_columns = [\n",
    "    \"name\", \"description\", \"neighborhood_overview\", \"neighbourhood_cleansed\",\n",
    "    \"property_type\", \"room_type\", \"accommodates\", \"bathrooms\", \"bedrooms\",\n",
    "    \"beds\", \"amenities\", \"availability_365\", \"review_scores_value\", \"price\"\n",
    "]\n",
    "\n",
    "# Selecting the specified columns\n",
    "df = df[selected_columns]\n",
    "\n",
    "# Filter out records without price\n",
    "df = df[df['price'].notna()]\n",
    "\n",
    "\n",
    "# Display the first few rows\n",
    "display(df)\n"
   ]
  },
  {
   "cell_type": "markdown",
   "metadata": {
    "application/vnd.databricks.v1+cell": {
     "cellMetadata": {},
     "inputWidgets": {},
     "nuid": "e64b5b00-2c09-47ba-bd2e-e1a4ce4e5f90",
     "showTitle": false,
     "tableResultSettingsMap": {},
     "title": ""
    }
   },
   "source": [
    "### Pre-process columns one by one "
   ]
  },
  {
   "cell_type": "markdown",
   "metadata": {
    "application/vnd.databricks.v1+cell": {
     "cellMetadata": {},
     "inputWidgets": {},
     "nuid": "95c01f81-1124-407d-9d6a-85ac6cb1c97b",
     "showTitle": false,
     "tableResultSettingsMap": {},
     "title": ""
    }
   },
   "source": [
    "1. <b>name</b>: create text embeddings to capture semantics embeddings"
   ]
  },
  {
   "cell_type": "code",
   "execution_count": 0,
   "metadata": {
    "application/vnd.databricks.v1+cell": {
     "cellMetadata": {
      "byteLimit": 2048000,
      "rowLimit": 10000
     },
     "inputWidgets": {},
     "nuid": "633bb230-7066-403f-9c32-6cdb063edfef",
     "showTitle": false,
     "tableResultSettingsMap": {},
     "title": ""
    }
   },
   "outputs": [],
   "source": [
    "%pip install sentence-transformers"
   ]
  },
  {
   "cell_type": "code",
   "execution_count": 0,
   "metadata": {
    "application/vnd.databricks.v1+cell": {
     "cellMetadata": {
      "byteLimit": 2048000,
      "rowLimit": 10000
     },
     "inputWidgets": {},
     "nuid": "71acab8c-caf1-4fe3-947a-7c7711a58de3",
     "showTitle": false,
     "tableResultSettingsMap": {},
     "title": ""
    }
   },
   "outputs": [],
   "source": [
    "from sentence_transformers import SentenceTransformer\n",
    "import numpy as np\n",
    "\n",
    "# Load a pre-trained model (optimized for sentence embeddings)\n",
    "model = SentenceTransformer(\"sentence-transformers/all-MiniLM-L6-v2\")\n",
    "\n",
    "names = np.array(df['name'])\n",
    "\n",
    "# Generate embeddings\n",
    "name_embeddings = model.encode(names)\n"
   ]
  },
  {
   "cell_type": "markdown",
   "metadata": {
    "application/vnd.databricks.v1+cell": {
     "cellMetadata": {},
     "inputWidgets": {},
     "nuid": "51c38997-8185-4108-9d4b-ba4a5566efc8",
     "showTitle": false,
     "tableResultSettingsMap": {},
     "title": ""
    }
   },
   "source": [
    "2. <b>description</b>: create text embeddings to capture semantics embeddings"
   ]
  },
  {
   "cell_type": "code",
   "execution_count": 0,
   "metadata": {
    "application/vnd.databricks.v1+cell": {
     "cellMetadata": {},
     "inputWidgets": {},
     "nuid": "a595c6d0-61e2-486f-a7e5-7ef2513f2b14",
     "showTitle": false,
     "tableResultSettingsMap": {},
     "title": ""
    }
   },
   "outputs": [],
   "source": [
    "descriptions = np.array(df['description'])\n",
    "description_embeddings = model.encode(descriptions)"
   ]
  },
  {
   "cell_type": "markdown",
   "metadata": {
    "application/vnd.databricks.v1+cell": {
     "cellMetadata": {},
     "inputWidgets": {},
     "nuid": "404ec97c-43e4-4837-882f-c7e7054d0ebd",
     "showTitle": false,
     "tableResultSettingsMap": {},
     "title": ""
    }
   },
   "source": [
    "3. <b>Neighbourhood overview</b>: create text embeddings to capture semantics embeddings"
   ]
  },
  {
   "cell_type": "code",
   "execution_count": 0,
   "metadata": {
    "application/vnd.databricks.v1+cell": {
     "cellMetadata": {},
     "inputWidgets": {},
     "nuid": "408f924f-56ac-443e-99b8-0a96cb3c2a23",
     "showTitle": false,
     "tableResultSettingsMap": {},
     "title": ""
    }
   },
   "outputs": [],
   "source": [
    "neighborhood_overviews = np.array(df['neighborhood_overview'])\n",
    "neighborhood_overview_embeddings = model.encode(neighborhood_overviews)"
   ]
  },
  {
   "cell_type": "markdown",
   "metadata": {
    "application/vnd.databricks.v1+cell": {
     "cellMetadata": {},
     "inputWidgets": {},
     "nuid": "94822f22-d4fc-4969-bdc5-39be6e64a953",
     "showTitle": false,
     "tableResultSettingsMap": {},
     "title": ""
    }
   },
   "source": [
    "3. <b>Neighbourhood cleansed</b>: create one-hot-encodings"
   ]
  },
  {
   "cell_type": "code",
   "execution_count": 0,
   "metadata": {
    "application/vnd.databricks.v1+cell": {
     "cellMetadata": {
      "byteLimit": 2048000,
      "rowLimit": 10000
     },
     "inputWidgets": {},
     "nuid": "eeec0244-59a2-418f-a0a4-9bb7ed1718b7",
     "showTitle": false,
     "tableResultSettingsMap": {},
     "title": ""
    }
   },
   "outputs": [],
   "source": [
    "from sklearn.preprocessing import OneHotEncoder\n",
    "\n",
    "categories = np.array(df['neighbourhood_cleansed'])\n",
    "encoder = OneHotEncoder()\n",
    "neighborhood_ohe = encoder.fit_transform(categories.reshape(-1, 1))\n"
   ]
  },
  {
   "cell_type": "code",
   "execution_count": 0,
   "metadata": {
    "application/vnd.databricks.v1+cell": {
     "cellMetadata": {},
     "inputWidgets": {},
     "nuid": "02c4efdc-0a3a-4f06-9255-469195c2eef5",
     "showTitle": false,
     "tableResultSettingsMap": {},
     "title": ""
    }
   },
   "outputs": [],
   "source": []
  }
 ],
 "metadata": {
  "application/vnd.databricks.v1+notebook": {
   "computePreferences": null,
   "dashboards": [],
   "environmentMetadata": {
    "base_environment": "",
    "environment_version": "2"
   },
   "language": "python",
   "notebookMetadata": {
    "mostRecentlyExecutedCommandWithImplicitDF": {
     "commandId": 820236209416760,
     "dataframes": [
      "_sqldf"
     ]
    },
    "pythonIndentUnit": 4
   },
   "notebookName": "preprocess",
   "widgets": {}
  },
  "language_info": {
   "name": "python"
  }
 },
 "nbformat": 4,
 "nbformat_minor": 0
}
